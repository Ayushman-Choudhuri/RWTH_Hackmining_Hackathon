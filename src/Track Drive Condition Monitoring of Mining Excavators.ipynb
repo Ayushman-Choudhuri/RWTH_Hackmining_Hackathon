{
 "cells": [
  {
   "cell_type": "markdown",
   "id": "4adb7fef",
   "metadata": {},
   "source": [
    "# 1.  Problem Overview"
   ]
  },
  {
   "cell_type": "markdown",
   "id": "bf867303",
   "metadata": {},
   "source": [
    "..."
   ]
  },
  {
   "cell_type": "markdown",
   "id": "fb0532d1",
   "metadata": {},
   "source": [
    "# 2. Import Relavent Libraries"
   ]
  },
  {
   "cell_type": "code",
   "execution_count": null,
   "id": "25c0dccd",
   "metadata": {},
   "outputs": [],
   "source": []
  }
 ],
 "metadata": {
  "kernelspec": {
   "display_name": "Python 3",
   "language": "python",
   "name": "python3"
  },
  "language_info": {
   "codemirror_mode": {
    "name": "ipython",
    "version": 3
   },
   "file_extension": ".py",
   "mimetype": "text/x-python",
   "name": "python",
   "nbconvert_exporter": "python",
   "pygments_lexer": "ipython3",
   "version": "3.6.9"
  }
 },
 "nbformat": 4,
 "nbformat_minor": 5
}
